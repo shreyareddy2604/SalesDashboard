{
 "cells": [
  {
   "cell_type": "markdown",
   "id": "3e3f6666-b390-46cd-8841-dc377bea7a42",
   "metadata": {},
   "source": [
    "### Data analysis of SuperStore sales data"
   ]
  },
  {
   "cell_type": "markdown",
   "id": "8dd6dd1a-a7e3-4dee-8c39-582ed2e3d7a5",
   "metadata": {},
   "source": [
    "In this notebook, we try analyse, explore and understand the dataset provided. It is the sales data of a store. We look for missing values, need to add any columns/ drop unneccesary columns to gain insights to create a dashboard."
   ]
  },
  {
   "cell_type": "code",
   "execution_count": 2,
   "id": "0c00a98c-7e71-4e87-85d6-3f32afcdc5a0",
   "metadata": {},
   "outputs": [],
   "source": [
    "import pandas as pd\n",
    "import numpy as np"
   ]
  },
  {
   "cell_type": "code",
   "execution_count": 6,
   "id": "f82af85e-0ca2-44e9-b64f-4f2e02cc7a2c",
   "metadata": {},
   "outputs": [
    {
     "data": {
      "text/html": [
       "<div>\n",
       "<style scoped>\n",
       "    .dataframe tbody tr th:only-of-type {\n",
       "        vertical-align: middle;\n",
       "    }\n",
       "\n",
       "    .dataframe tbody tr th {\n",
       "        vertical-align: top;\n",
       "    }\n",
       "\n",
       "    .dataframe thead th {\n",
       "        text-align: right;\n",
       "    }\n",
       "</style>\n",
       "<table border=\"1\" class=\"dataframe\">\n",
       "  <thead>\n",
       "    <tr style=\"text-align: right;\">\n",
       "      <th></th>\n",
       "      <th>Row ID+O6G3A1:R6</th>\n",
       "      <th>Order ID</th>\n",
       "      <th>Order Date</th>\n",
       "      <th>Ship Date</th>\n",
       "      <th>Ship Mode</th>\n",
       "      <th>Customer ID</th>\n",
       "      <th>Customer Name</th>\n",
       "      <th>Segment</th>\n",
       "      <th>Country</th>\n",
       "      <th>City</th>\n",
       "      <th>...</th>\n",
       "      <th>Category</th>\n",
       "      <th>Sub-Category</th>\n",
       "      <th>Product Name</th>\n",
       "      <th>Sales</th>\n",
       "      <th>Quantity</th>\n",
       "      <th>Profit</th>\n",
       "      <th>Returns</th>\n",
       "      <th>Payment Mode</th>\n",
       "      <th>ind1</th>\n",
       "      <th>ind2</th>\n",
       "    </tr>\n",
       "  </thead>\n",
       "  <tbody>\n",
       "    <tr>\n",
       "      <th>0</th>\n",
       "      <td>4918</td>\n",
       "      <td>CA-2019-160304</td>\n",
       "      <td>2019-01-01</td>\n",
       "      <td>2019-01-07</td>\n",
       "      <td>Standard Class</td>\n",
       "      <td>BM-11575</td>\n",
       "      <td>Brendan Murry</td>\n",
       "      <td>Corporate</td>\n",
       "      <td>United States</td>\n",
       "      <td>Gaithersburg</td>\n",
       "      <td>...</td>\n",
       "      <td>Furniture</td>\n",
       "      <td>Bookcases</td>\n",
       "      <td>Bush Westfield Collection Bookcases, Medium Ch...</td>\n",
       "      <td>73.94</td>\n",
       "      <td>1</td>\n",
       "      <td>28.2668</td>\n",
       "      <td>NaN</td>\n",
       "      <td>Online</td>\n",
       "      <td>NaN</td>\n",
       "      <td>NaN</td>\n",
       "    </tr>\n",
       "    <tr>\n",
       "      <th>1</th>\n",
       "      <td>4919</td>\n",
       "      <td>CA-2019-160304</td>\n",
       "      <td>2019-01-02</td>\n",
       "      <td>2019-01-07</td>\n",
       "      <td>Standard Class</td>\n",
       "      <td>BM-11575</td>\n",
       "      <td>Brendan Murry</td>\n",
       "      <td>Corporate</td>\n",
       "      <td>United States</td>\n",
       "      <td>Gaithersburg</td>\n",
       "      <td>...</td>\n",
       "      <td>Furniture</td>\n",
       "      <td>Bookcases</td>\n",
       "      <td>Bush Westfield Collection Bookcases, Medium Ch...</td>\n",
       "      <td>173.94</td>\n",
       "      <td>3</td>\n",
       "      <td>38.2668</td>\n",
       "      <td>NaN</td>\n",
       "      <td>Online</td>\n",
       "      <td>NaN</td>\n",
       "      <td>NaN</td>\n",
       "    </tr>\n",
       "    <tr>\n",
       "      <th>2</th>\n",
       "      <td>4920</td>\n",
       "      <td>CA-2019-160304</td>\n",
       "      <td>2019-01-02</td>\n",
       "      <td>2019-01-07</td>\n",
       "      <td>Standard Class</td>\n",
       "      <td>BM-11575</td>\n",
       "      <td>Brendan Murry</td>\n",
       "      <td>Corporate</td>\n",
       "      <td>United States</td>\n",
       "      <td>Gaithersburg</td>\n",
       "      <td>...</td>\n",
       "      <td>Technology</td>\n",
       "      <td>Phones</td>\n",
       "      <td>GE 30522EE2</td>\n",
       "      <td>231.98</td>\n",
       "      <td>2</td>\n",
       "      <td>67.2742</td>\n",
       "      <td>NaN</td>\n",
       "      <td>Cards</td>\n",
       "      <td>NaN</td>\n",
       "      <td>NaN</td>\n",
       "    </tr>\n",
       "    <tr>\n",
       "      <th>3</th>\n",
       "      <td>3074</td>\n",
       "      <td>CA-2019-125206</td>\n",
       "      <td>2019-01-03</td>\n",
       "      <td>2019-01-05</td>\n",
       "      <td>First Class</td>\n",
       "      <td>LR-16915</td>\n",
       "      <td>Lena Radford</td>\n",
       "      <td>Consumer</td>\n",
       "      <td>United States</td>\n",
       "      <td>Los Angeles</td>\n",
       "      <td>...</td>\n",
       "      <td>Office Supplies</td>\n",
       "      <td>Storage</td>\n",
       "      <td>Recycled Steel Personal File for Hanging File ...</td>\n",
       "      <td>114.46</td>\n",
       "      <td>2</td>\n",
       "      <td>28.6150</td>\n",
       "      <td>NaN</td>\n",
       "      <td>Online</td>\n",
       "      <td>NaN</td>\n",
       "      <td>NaN</td>\n",
       "    </tr>\n",
       "    <tr>\n",
       "      <th>4</th>\n",
       "      <td>8604</td>\n",
       "      <td>US-2019-116365</td>\n",
       "      <td>2019-01-03</td>\n",
       "      <td>2019-01-08</td>\n",
       "      <td>Standard Class</td>\n",
       "      <td>CA-12310</td>\n",
       "      <td>Christine Abelman</td>\n",
       "      <td>Corporate</td>\n",
       "      <td>United States</td>\n",
       "      <td>San Antonio</td>\n",
       "      <td>...</td>\n",
       "      <td>Technology</td>\n",
       "      <td>Accessories</td>\n",
       "      <td>Imation Clip USB flash drive - 8 GB</td>\n",
       "      <td>30.08</td>\n",
       "      <td>2</td>\n",
       "      <td>-5.2640</td>\n",
       "      <td>NaN</td>\n",
       "      <td>Online</td>\n",
       "      <td>NaN</td>\n",
       "      <td>NaN</td>\n",
       "    </tr>\n",
       "  </tbody>\n",
       "</table>\n",
       "<p>5 rows × 23 columns</p>\n",
       "</div>"
      ],
      "text/plain": [
       "   Row ID+O6G3A1:R6        Order ID Order Date  Ship Date       Ship Mode  \\\n",
       "0              4918  CA-2019-160304 2019-01-01 2019-01-07  Standard Class   \n",
       "1              4919  CA-2019-160304 2019-01-02 2019-01-07  Standard Class   \n",
       "2              4920  CA-2019-160304 2019-01-02 2019-01-07  Standard Class   \n",
       "3              3074  CA-2019-125206 2019-01-03 2019-01-05     First Class   \n",
       "4              8604  US-2019-116365 2019-01-03 2019-01-08  Standard Class   \n",
       "\n",
       "  Customer ID      Customer Name    Segment        Country          City  ...  \\\n",
       "0    BM-11575      Brendan Murry  Corporate  United States  Gaithersburg  ...   \n",
       "1    BM-11575      Brendan Murry  Corporate  United States  Gaithersburg  ...   \n",
       "2    BM-11575      Brendan Murry  Corporate  United States  Gaithersburg  ...   \n",
       "3    LR-16915       Lena Radford   Consumer  United States   Los Angeles  ...   \n",
       "4    CA-12310  Christine Abelman  Corporate  United States   San Antonio  ...   \n",
       "\n",
       "          Category Sub-Category  \\\n",
       "0        Furniture    Bookcases   \n",
       "1        Furniture    Bookcases   \n",
       "2       Technology       Phones   \n",
       "3  Office Supplies      Storage   \n",
       "4       Technology  Accessories   \n",
       "\n",
       "                                        Product Name   Sales Quantity  \\\n",
       "0  Bush Westfield Collection Bookcases, Medium Ch...   73.94        1   \n",
       "1  Bush Westfield Collection Bookcases, Medium Ch...  173.94        3   \n",
       "2                                        GE 30522EE2  231.98        2   \n",
       "3  Recycled Steel Personal File for Hanging File ...  114.46        2   \n",
       "4                Imation Clip USB flash drive - 8 GB   30.08        2   \n",
       "\n",
       "    Profit  Returns  Payment Mode  ind1  ind2  \n",
       "0  28.2668      NaN        Online   NaN   NaN  \n",
       "1  38.2668      NaN        Online   NaN   NaN  \n",
       "2  67.2742      NaN         Cards   NaN   NaN  \n",
       "3  28.6150      NaN        Online   NaN   NaN  \n",
       "4  -5.2640      NaN        Online   NaN   NaN  \n",
       "\n",
       "[5 rows x 23 columns]"
      ]
     },
     "execution_count": 6,
     "metadata": {},
     "output_type": "execute_result"
    }
   ],
   "source": [
    "df=pd.read_excel(\"C:\\\\Users\\\\Shreya Reddy\\\\Downloads\\\\SalesInsights_PowerBI\\\\SuperStore Sales DataSet.xlsx\")\n",
    "df.head()"
   ]
  },
  {
   "cell_type": "code",
   "execution_count": 7,
   "id": "b72680b7-a20e-4ba9-9168-57f7b0a81bb2",
   "metadata": {},
   "outputs": [
    {
     "data": {
      "text/plain": [
       "Index(['Row ID+O6G3A1:R6', 'Order ID', 'Order Date', 'Ship Date', 'Ship Mode',\n",
       "       'Customer ID', 'Customer Name', 'Segment', 'Country', 'City', 'State',\n",
       "       'Region', 'Product ID', 'Category', 'Sub-Category', 'Product Name',\n",
       "       'Sales', 'Quantity', 'Profit', 'Returns', 'Payment Mode', 'ind1',\n",
       "       'ind2'],\n",
       "      dtype='object')"
      ]
     },
     "execution_count": 7,
     "metadata": {},
     "output_type": "execute_result"
    }
   ],
   "source": [
    "df.columns"
   ]
  },
  {
   "cell_type": "code",
   "execution_count": 8,
   "id": "62861b68-4183-4c0b-8541-72aa8ee27703",
   "metadata": {},
   "outputs": [
    {
     "data": {
      "text/plain": [
       "(5901, 23)"
      ]
     },
     "execution_count": 8,
     "metadata": {},
     "output_type": "execute_result"
    }
   ],
   "source": [
    "df.shape"
   ]
  },
  {
   "cell_type": "code",
   "execution_count": 9,
   "id": "2f503532-f5ce-4553-bd23-b25d098203b6",
   "metadata": {},
   "outputs": [
    {
     "name": "stdout",
     "output_type": "stream",
     "text": [
      "<class 'pandas.core.frame.DataFrame'>\n",
      "RangeIndex: 5901 entries, 0 to 5900\n",
      "Data columns (total 23 columns):\n",
      " #   Column            Non-Null Count  Dtype         \n",
      "---  ------            --------------  -----         \n",
      " 0   Row ID+O6G3A1:R6  5901 non-null   int64         \n",
      " 1   Order ID          5901 non-null   object        \n",
      " 2   Order Date        5901 non-null   datetime64[ns]\n",
      " 3   Ship Date         5901 non-null   datetime64[ns]\n",
      " 4   Ship Mode         5901 non-null   object        \n",
      " 5   Customer ID       5901 non-null   object        \n",
      " 6   Customer Name     5901 non-null   object        \n",
      " 7   Segment           5901 non-null   object        \n",
      " 8   Country           5901 non-null   object        \n",
      " 9   City              5901 non-null   object        \n",
      " 10  State             5901 non-null   object        \n",
      " 11  Region            5901 non-null   object        \n",
      " 12  Product ID        5901 non-null   object        \n",
      " 13  Category          5901 non-null   object        \n",
      " 14  Sub-Category      5901 non-null   object        \n",
      " 15  Product Name      5901 non-null   object        \n",
      " 16  Sales             5901 non-null   float64       \n",
      " 17  Quantity          5901 non-null   int64         \n",
      " 18  Profit            5901 non-null   float64       \n",
      " 19  Returns           287 non-null    float64       \n",
      " 20  Payment Mode      5901 non-null   object        \n",
      " 21  ind1              0 non-null      float64       \n",
      " 22  ind2              0 non-null      float64       \n",
      "dtypes: datetime64[ns](2), float64(5), int64(2), object(14)\n",
      "memory usage: 1.0+ MB\n"
     ]
    }
   ],
   "source": [
    "df.info()"
   ]
  },
  {
   "cell_type": "code",
   "execution_count": 10,
   "id": "f460abba-e8ad-4913-92c4-b5b1c4248182",
   "metadata": {},
   "outputs": [
    {
     "data": {
      "text/plain": [
       "Row ID+O6G3A1:R6       0\n",
       "Order ID               0\n",
       "Order Date             0\n",
       "Ship Date              0\n",
       "Ship Mode              0\n",
       "Customer ID            0\n",
       "Customer Name          0\n",
       "Segment                0\n",
       "Country                0\n",
       "City                   0\n",
       "State                  0\n",
       "Region                 0\n",
       "Product ID             0\n",
       "Category               0\n",
       "Sub-Category           0\n",
       "Product Name           0\n",
       "Sales                  0\n",
       "Quantity               0\n",
       "Profit                 0\n",
       "Returns             5614\n",
       "Payment Mode           0\n",
       "ind1                5901\n",
       "ind2                5901\n",
       "dtype: int64"
      ]
     },
     "execution_count": 10,
     "metadata": {},
     "output_type": "execute_result"
    }
   ],
   "source": [
    "df.isna().sum()"
   ]
  },
  {
   "cell_type": "markdown",
   "id": "51f72a0a-c826-426a-a043-6eb977e7ad86",
   "metadata": {},
   "source": [
    "We observe that the columns: Returns, ind1, ind2 have null values. ind1,ind2 are completely empty so we can drop them. We will look into the 'Returns' columns for possibilities to minimise the null/missing values."
   ]
  },
  {
   "cell_type": "code",
   "execution_count": 11,
   "id": "e332d9d2-5e4d-4cb5-8528-49ac5bcdf33c",
   "metadata": {},
   "outputs": [
    {
     "data": {
      "text/plain": [
       "Returns\n",
       "1.0    287\n",
       "Name: count, dtype: int64"
      ]
     },
     "execution_count": 11,
     "metadata": {},
     "output_type": "execute_result"
    }
   ],
   "source": [
    "df['Returns'].value_counts()"
   ]
  },
  {
   "cell_type": "markdown",
   "id": "30ada55d-1397-4121-a0de-a8c9dfa04542",
   "metadata": {},
   "source": [
    "We see that there is only one type of value in the 'Returns' column. '1', here, may mean that the product has been returned, so, we are assuming that a null value means the product hasn't been returned at all."
   ]
  },
  {
   "cell_type": "code",
   "execution_count": 12,
   "id": "a95ecf6b-e9e6-41ef-906a-8c846e725af7",
   "metadata": {},
   "outputs": [
    {
     "data": {
      "text/plain": [
       "Ship Mode\n",
       "Standard Class    3451\n",
       "Second Class      1147\n",
       "First Class        959\n",
       "Same Day           344\n",
       "Name: count, dtype: int64"
      ]
     },
     "execution_count": 12,
     "metadata": {},
     "output_type": "execute_result"
    }
   ],
   "source": [
    "df['Ship Mode'].value_counts()"
   ]
  },
  {
   "cell_type": "code",
   "execution_count": 13,
   "id": "7df58654-f185-4532-9309-272ff346c53c",
   "metadata": {},
   "outputs": [
    {
     "data": {
      "text/plain": [
       "Customer ID\n",
       "EP-13915    27\n",
       "SV-20365    25\n",
       "PP-18955    25\n",
       "EH-13765    25\n",
       "PK-19075    24\n",
       "            ..\n",
       "SS-20515     1\n",
       "JR-15700     1\n",
       "JR-15670     1\n",
       "RK-19300     1\n",
       "ME-18010     1\n",
       "Name: count, Length: 773, dtype: int64"
      ]
     },
     "execution_count": 13,
     "metadata": {},
     "output_type": "execute_result"
    }
   ],
   "source": [
    "df['Customer ID'].value_counts()"
   ]
  },
  {
   "cell_type": "code",
   "execution_count": 14,
   "id": "f9a759ba-47f1-4fa8-9650-240a63daf528",
   "metadata": {},
   "outputs": [
    {
     "data": {
      "text/plain": [
       "Customer Name\n",
       "Emily Phan          27\n",
       "Seth Vernon         25\n",
       "Paul Prost          25\n",
       "Edward Hooks        25\n",
       "Pete Kriz           24\n",
       "                    ..\n",
       "Shirley Schmidt      1\n",
       "Jocasta Rupert       1\n",
       "Jim Radford          1\n",
       "Ralph Kennedy        1\n",
       "Michelle Ellison     1\n",
       "Name: count, Length: 773, dtype: int64"
      ]
     },
     "execution_count": 14,
     "metadata": {},
     "output_type": "execute_result"
    }
   ],
   "source": [
    "df['Customer Name'].value_counts()"
   ]
  },
  {
   "cell_type": "markdown",
   "id": "1735352d-7072-4477-aed6-4724db2b023d",
   "metadata": {},
   "source": [
    "The number of unique customers, customer ID's are the same, i.e. there was no error made while storing information about any customer."
   ]
  },
  {
   "cell_type": "code",
   "execution_count": 15,
   "id": "289ac5d2-d677-4584-84af-9f5d7ebcc1c3",
   "metadata": {},
   "outputs": [
    {
     "data": {
      "text/plain": [
       "Segment\n",
       "Consumer       2997\n",
       "Corporate      1774\n",
       "Home Office    1130\n",
       "Name: count, dtype: int64"
      ]
     },
     "execution_count": 15,
     "metadata": {},
     "output_type": "execute_result"
    }
   ],
   "source": [
    "df['Segment'].value_counts()"
   ]
  },
  {
   "cell_type": "code",
   "execution_count": 16,
   "id": "8ff3d5e9-ee10-4408-9edc-f4823408cd2c",
   "metadata": {},
   "outputs": [
    {
     "data": {
      "text/plain": [
       "Country\n",
       "United States    5901\n",
       "Name: count, dtype: int64"
      ]
     },
     "execution_count": 16,
     "metadata": {},
     "output_type": "execute_result"
    }
   ],
   "source": [
    "df['Country'].value_counts()"
   ]
  },
  {
   "cell_type": "code",
   "execution_count": 17,
   "id": "101c420d-c572-4416-970c-34e117c7bbc0",
   "metadata": {},
   "outputs": [
    {
     "data": {
      "text/plain": [
       "State\n",
       "California              1189\n",
       "New York                 672\n",
       "Texas                    565\n",
       "Washington               337\n",
       "Pennsylvania             335\n",
       "Illinois                 293\n",
       "Ohio                     293\n",
       "Florida                  212\n",
       "North Carolina           159\n",
       "Michigan                 138\n",
       "Tennessee                120\n",
       "Georgia                  115\n",
       "Colorado                 114\n",
       "Arizona                  113\n",
       "Virginia                 104\n",
       "Indiana                   96\n",
       "New Jersey                92\n",
       "Wisconsin                 77\n",
       "Kentucky                  73\n",
       "Oregon                    65\n",
       "Massachusetts             63\n",
       "Maryland                  63\n",
       "Connecticut               56\n",
       "Oklahoma                  49\n",
       "Minnesota                 46\n",
       "Delaware                  43\n",
       "Missouri                  40\n",
       "Arkansas                  39\n",
       "Mississippi               36\n",
       "Rhode Island              36\n",
       "Alabama                   35\n",
       "New Mexico                26\n",
       "Nebraska                  25\n",
       "Iowa                      24\n",
       "Utah                      23\n",
       "Louisiana                 19\n",
       "South Carolina            19\n",
       "Nevada                    16\n",
       "Kansas                    13\n",
       "New Hampshire             13\n",
       "Idaho                     12\n",
       "Vermont                    9\n",
       "South Dakota               8\n",
       "District of Columbia       7\n",
       "North Dakota               7\n",
       "Montana                    5\n",
       "West Virginia              4\n",
       "Maine                      2\n",
       "Wyoming                    1\n",
       "Name: count, dtype: int64"
      ]
     },
     "execution_count": 17,
     "metadata": {},
     "output_type": "execute_result"
    }
   ],
   "source": [
    "df['State'].value_counts()"
   ]
  },
  {
   "cell_type": "code",
   "execution_count": 18,
   "id": "e4c2a4e3-2a70-4250-bc92-1e372984af34",
   "metadata": {},
   "outputs": [
    {
     "data": {
      "text/plain": [
       "array(['Gaithersburg', 'Los Angeles', 'San Antonio', 'Broken Arrow',\n",
       "       'Charlotte', 'Philadelphia', 'Jacksonville', 'Oakland', 'Amarillo',\n",
       "       'Franklin', 'Raleigh', 'Fresno', 'Toledo', 'Seattle', 'Longview',\n",
       "       'Springfield', 'Columbus', 'Concord', 'Westfield', 'Fairfield',\n",
       "       'New York City', 'San Diego', 'Morristown', 'Fayetteville',\n",
       "       'Cleveland', 'Burlington', 'Gulfport', 'Plainfield',\n",
       "       'San Francisco', 'Chicago', 'Rockford', 'Dallas', 'Atlantic City',\n",
       "       'Atlanta', 'Arlington', 'Houston', 'Richmond', 'Sierra Vista',\n",
       "       'Rockville', 'Smyrna', 'Chattanooga', 'Lancaster', 'Tulsa',\n",
       "       'Clinton', 'Jackson', 'Belleville', 'Henderson', 'Long Beach',\n",
       "       'Nashville', 'Oceanside', 'Tampa', 'Milwaukee', 'Newark',\n",
       "       'La Crosse', 'Yonkers', 'Denver', 'Odessa', 'Bloomington',\n",
       "       'Round Rock', 'Miami', 'Mishawaka', 'Dover', 'Fort Worth',\n",
       "       'Glendale', 'Milford', 'Andover', 'Eagan', 'Vineland', 'Monroe',\n",
       "       'Scottsdale', 'Waynesboro', 'Riverside', 'Harlingen',\n",
       "       'Redwood City', 'Green Bay', 'Bryan', 'Malden', 'Columbia',\n",
       "       'Memphis', 'Littleton', 'Salem', 'Evanston', 'Saint Peters',\n",
       "       'North Las Vegas', 'Gresham', 'Norman', 'Pocatello', 'Norwich',\n",
       "       'Auburn', 'Troy', 'Lakewood', 'Hot Springs', 'Detroit',\n",
       "       'Bakersfield', 'Wilson', 'Alexandria', 'Baltimore', 'Gastonia',\n",
       "       'Grapevine', 'Omaha', 'Elmhurst', 'Chesapeake', 'Phoenix',\n",
       "       'Jefferson City', 'Aurora', 'Rome', 'Hesperia', 'San Clemente',\n",
       "       'Colorado Springs', 'Saint Charles', 'Little Rock', 'Greensboro',\n",
       "       'Irving', 'Louisville', 'Murfreesboro', 'Encinitas', 'Tallahassee',\n",
       "       'Lorain', 'Austin', 'Virginia Beach', 'Mission Viejo',\n",
       "       'Cincinnati', 'Yuma', 'Fort Lauderdale', 'Middletown', 'Apopka',\n",
       "       'Waterbury', 'Lafayette', 'Vallejo', 'Asheville',\n",
       "       'Port Saint Lucie', 'Sparks', 'Warwick', 'Passaic', 'Athens',\n",
       "       'Florence', 'Newport News', 'Washington', 'Santa Ana',\n",
       "       'Delray Beach', 'Park Ridge', 'Montgomery', 'Parker', 'Wilmington',\n",
       "       'Hamilton', 'Superior', 'Decatur', 'Santa Clara', 'Lowell',\n",
       "       'Santa Barbara', 'Minneapolis', 'Pasadena', 'Wichita', 'Anaheim',\n",
       "       'Boca Raton', 'Longmont', 'Rochester', 'Frankfort', 'Salinas',\n",
       "       'Carrollton', 'Oklahoma City', 'Buffalo', 'York', 'Providence',\n",
       "       'Plano', 'Roseville', 'Highland Park', 'Paterson', 'Sandy Springs',\n",
       "       'Lehi', 'Huntsville', 'Hialeah', 'San Jose', 'Orem', 'Broomfield',\n",
       "       'Mesa', 'Tucson', 'Provo', 'Portland', 'Grand Prairie',\n",
       "       'Perth Amboy', 'Bowling Green', 'Hattiesburg', 'Allentown',\n",
       "       'Westland', 'Mcallen', 'Costa Mesa', 'Holland', 'Bethlehem',\n",
       "       'Pensacola', 'Suffolk', 'Peoria', 'Sacramento', 'Edmonds',\n",
       "       'Hendersonville', 'Des Moines', 'Lakeland', 'West Allis', 'Kenner',\n",
       "       'Akron', 'Davis', 'Edinburg', 'Greenville', 'Fort Collins',\n",
       "       'Pharr', 'Sheboygan', 'Quincy', 'Hollywood', 'Englewood', 'Waco',\n",
       "       'Huntington Beach', 'Madison', 'Waukesha', 'Knoxville',\n",
       "       'Georgetown', 'Woodbury', 'Jonesboro', 'Cedar Rapids', 'Olathe',\n",
       "       'Johnson City', 'Redondo Beach', 'Saint Paul', 'Thomasville',\n",
       "       'Wheeling', 'Visalia', 'Stockton', 'Bristol', 'Arvada', 'Utica',\n",
       "       'Twin Falls', 'Laguna Niguel', 'Bangor', 'Marlborough', 'Redmond',\n",
       "       'New Rochelle', 'Woodland', 'Orange', 'Grand Rapids',\n",
       "       'Pembroke Pines', 'Lawrence', 'Parma', 'Tigard', 'Covington',\n",
       "       'Iowa City', 'Redlands', 'Mobile', 'La Porte', 'Lake Forest',\n",
       "       'The Colony', 'Coral Gables', 'Pueblo', 'Spokane', 'Marysville',\n",
       "       'Laredo', 'Appleton', 'Salt Lake City', 'Tempe', 'Trenton',\n",
       "       'El Cajon', 'Manchester', 'Lebanon', 'Hampton', 'Boynton Beach',\n",
       "       'Bridgeton', 'Lansing', 'Sterling Heights', 'San Luis Obispo',\n",
       "       'Conroe', 'Urbandale', 'Chula Vista', 'Eugene', 'Cheyenne',\n",
       "       'Warner Robins', 'Noblesville', 'Arlington Heights', 'Vancouver',\n",
       "       'Carlsbad', 'Kent', 'Taylor', 'Niagara Falls', 'Indianapolis',\n",
       "       'Edmond', 'Orlando', 'Montebello', 'Medford', 'Bellevue',\n",
       "       'El Paso', 'Shelton', 'Lincoln Park', 'Overland Park',\n",
       "       'East Orange', 'Palm Coast', 'Marietta', 'Hickory', 'Oxnard',\n",
       "       'San Angelo', 'Marion', 'Morgan Hill', 'Murray', 'Hempstead',\n",
       "       'Antioch', 'Richardson', 'Eau Claire', 'Fremont', 'Greenwood',\n",
       "       'Watertown', 'Homestead', 'Torrance', 'Cuyahoga Falls',\n",
       "       'Apple Valley', 'Goldsboro', 'Tamarac', 'Reading', 'Moreno Valley',\n",
       "       'Nashua', 'Woodstock', 'Port Arthur', 'West Palm Beach',\n",
       "       'Deer Park', 'Reno', 'Rancho Cucamonga', 'Tuscaloosa',\n",
       "       'Ormond Beach', 'Keller', 'Great Falls', 'Hoover', 'Roswell',\n",
       "       'Gilbert', 'Muskogee', 'Dearborn Heights', 'Southaven', 'Chester',\n",
       "       'Cambridge', 'Rogers', 'Albuquerque', 'Manteca', 'Tyler',\n",
       "       'Pompano Beach', 'Beaumont', 'Dearborn', 'Meriden', 'Des Plaines',\n",
       "       'Oak Park', 'New Brunswick', 'Lubbock', 'Clarksville', 'Greeley',\n",
       "       'Chandler', 'Kissimmee', 'Dublin', 'Sanford', 'Danville',\n",
       "       'Coral Springs', 'Texarkana', 'Westminster', 'Mansfield',\n",
       "       'Everett', 'Mount Vernon', 'Fargo', 'Las Vegas', 'Harrisonburg',\n",
       "       'Laurel', 'Bellingham', 'Missouri City', 'Frisco', 'Pearland',\n",
       "       'Skokie', 'Rochester Hills', 'Thousand Oaks', 'Saint Petersburg',\n",
       "       'Maple Grove', 'Chapel Hill', 'Olympia', 'Commerce City',\n",
       "       'Corpus Christi', 'Cranston', 'Pomona', 'Bolingbrook', 'Mesquite',\n",
       "       'Citrus Heights', 'Farmington', 'San Mateo', 'Pico Rivera',\n",
       "       'Waterloo', 'Sioux Falls', 'Elkhart', 'Kenosha', 'Loveland',\n",
       "       'Cedar Hill', 'Moorhead', 'Bedford', 'Lake Charles', 'Brentwood',\n",
       "       'New Bedford', 'Lakeville', 'Inglewood', 'La Mesa', 'Coppell',\n",
       "       'Garland', 'Draper', 'Modesto', 'Independence', 'Naperville',\n",
       "       'Woonsocket', 'Boise', 'Clovis', 'Grand Island', 'Melbourne',\n",
       "       'Pine Bluff', 'Saint Cloud', 'Helena', 'Miramar', 'Brownsville',\n",
       "       'Mentor', 'Lodi', 'Chico', 'Meridian', 'League City', 'Freeport',\n",
       "       'Camarillo', 'Durham', 'Deltona', 'Lawton', 'Saint Louis',\n",
       "       'Las Cruces', 'Springdale', 'Coachella', 'Sunnyvale', 'Pasco',\n",
       "       'Aberdeen', 'Jupiter', 'Grove City', 'Elyria', 'Escondido',\n",
       "       'Hillsboro', 'Hagerstown', 'Saginaw', 'College Station', 'Ontario',\n",
       "       'Renton', 'Canton', 'Summerville', 'Garden City', 'Gladstone',\n",
       "       'Charlottesville', 'Thornton', 'Whittier', 'North Charleston',\n",
       "       'Palatine', 'Abilene', 'Port Orange', 'Danbury'], dtype=object)"
      ]
     },
     "execution_count": 18,
     "metadata": {},
     "output_type": "execute_result"
    }
   ],
   "source": [
    "df['City'].unique()"
   ]
  },
  {
   "cell_type": "code",
   "execution_count": 19,
   "id": "15a8084d-86b9-433c-a225-fa0f2ef0947a",
   "metadata": {},
   "outputs": [
    {
     "name": "stdout",
     "output_type": "stream",
     "text": [
      "Unique values and counts corresponding to entries in Region column: Region\n",
      "West       1901\n",
      "East       1688\n",
      "Central    1381\n",
      "South       931\n",
      "Name: count, dtype: int64\n",
      "Unique values in Region column: ['East' 'West' 'Central' 'South']\n",
      "Unique values and counts corresponding to entries in Category column: Category\n",
      "Office Supplies    3569\n",
      "Furniture          1249\n",
      "Technology         1083\n",
      "Name: count, dtype: int64\n",
      "Unique values in Category column: ['Furniture' 'Technology' 'Office Supplies']\n",
      "Unique values and counts corresponding to entries in Sub-Category column: Sub-Category\n",
      "Binders        915\n",
      "Paper          825\n",
      "Furnishings    573\n",
      "Phones         519\n",
      "Storage        498\n",
      "Art            465\n",
      "Accessories    461\n",
      "Chairs         355\n",
      "Appliances     279\n",
      "Labels         211\n",
      "Tables         190\n",
      "Envelopes      133\n",
      "Bookcases      131\n",
      "Fasteners      124\n",
      "Supplies       119\n",
      "Machines        65\n",
      "Copiers         38\n",
      "Name: count, dtype: int64\n",
      "Unique values in Sub-Category column: ['Bookcases' 'Phones' 'Storage' 'Accessories' 'Tables' 'Binders' 'Copiers'\n",
      " 'Art' 'Furnishings' 'Paper' 'Envelopes' 'Chairs' 'Fasteners' 'Appliances'\n",
      " 'Labels' 'Machines' 'Supplies']\n",
      "Unique values and counts corresponding to entries in Payment Mode column: Payment Mode\n",
      "COD       2453\n",
      "Online    2164\n",
      "Cards     1284\n",
      "Name: count, dtype: int64\n",
      "Unique values in Payment Mode column: ['Online' 'Cards' 'COD']\n"
     ]
    }
   ],
   "source": [
    "columns=['Region','Category', 'Sub-Category','Payment Mode' ]\n",
    "\n",
    "for column in columns:\n",
    "    value_counts = df[column].value_counts()\n",
    "    print(f'Unique values and counts corresponding to entries in {column} column: {value_counts}')\n",
    "    unique_entries = df[column].unique()\n",
    "    print(f'Unique values in {column} column: {unique_entries}')"
   ]
  },
  {
   "cell_type": "markdown",
   "id": "0c3987dc-eb19-4220-bc73-f98a0541da84",
   "metadata": {},
   "source": [
    "Now that we have checked for any possible error in all the categorical columns. Now, we will check the rest of the columns(Sales, Quantity). Both these columns cannot contain negative values. If they do, then they have to be removed. And, if the quantity is 0, then corresponding sales can't be a non-zero number."
   ]
  },
  {
   "cell_type": "code",
   "execution_count": 20,
   "id": "6865655f-1457-4c43-8c6d-9936e96fad57",
   "metadata": {},
   "outputs": [
    {
     "data": {
      "text/plain": [
       "0"
      ]
     },
     "execution_count": 20,
     "metadata": {},
     "output_type": "execute_result"
    }
   ],
   "source": [
    "(df['Sales']<0).sum()"
   ]
  },
  {
   "cell_type": "code",
   "execution_count": 21,
   "id": "555326f9-5ece-4263-b1ec-f350292f6f35",
   "metadata": {},
   "outputs": [
    {
     "data": {
      "text/plain": [
       "0"
      ]
     },
     "execution_count": 21,
     "metadata": {},
     "output_type": "execute_result"
    }
   ],
   "source": [
    "(df['Quantity']<0).sum()"
   ]
  },
  {
   "cell_type": "code",
   "execution_count": 22,
   "id": "9f394d78-483e-4d0c-90b5-cdf36684b6d7",
   "metadata": {},
   "outputs": [
    {
     "data": {
      "text/plain": [
       "Series([], Name: Sales, dtype: float64)"
      ]
     },
     "execution_count": 22,
     "metadata": {},
     "output_type": "execute_result"
    }
   ],
   "source": [
    "df['Sales'][df['Quantity']==0]"
   ]
  },
  {
   "cell_type": "markdown",
   "id": "dd7f1a46-d40e-4340-a94b-745ed7cf116a",
   "metadata": {},
   "source": [
    "There are no entries with Quantity=0, so we need not worry about an error while storing the data"
   ]
  },
  {
   "cell_type": "markdown",
   "id": "afef35f3-4858-4ddb-8e00-46b5b0faf72d",
   "metadata": {},
   "source": [
    "Thus, the 'Sales' and 'Quantity' columns are clean."
   ]
  },
  {
   "cell_type": "markdown",
   "id": "e9a59e0c-e782-46c2-9fc5-fb25f4de534a",
   "metadata": {},
   "source": [
    "The data is clean so far. We just need to replace null values in the 'Returns' column with 0."
   ]
  },
  {
   "cell_type": "code",
   "execution_count": null,
   "id": "7b7600f7-2871-46a9-bd78-df55205f7795",
   "metadata": {},
   "outputs": [],
   "source": []
  }
 ],
 "metadata": {
  "kernelspec": {
   "display_name": "Python 3 (ipykernel)",
   "language": "python",
   "name": "python3"
  },
  "language_info": {
   "codemirror_mode": {
    "name": "ipython",
    "version": 3
   },
   "file_extension": ".py",
   "mimetype": "text/x-python",
   "name": "python",
   "nbconvert_exporter": "python",
   "pygments_lexer": "ipython3",
   "version": "3.11.7"
  }
 },
 "nbformat": 4,
 "nbformat_minor": 5
}
